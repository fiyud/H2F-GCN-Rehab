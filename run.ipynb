{
 "cells": [
  {
   "cell_type": "code",
   "execution_count": 4,
   "metadata": {},
   "outputs": [
    {
     "name": "stderr",
     "output_type": "stream",
     "text": [
      "d:\\NCKHSV.2024-2025\\H2F-GCN-Rehab\\main.py:107: FutureWarning: DataFrame.applymap has been deprecated. Use DataFrame.map instead.\n",
      "  df[cols_to_convert] = df[cols_to_convert].applymap(lambda x: np.array(x) if isinstance(x, list) else x)\n",
      "Traceback (most recent call last):\n",
      "  File \"d:\\NCKHSV.2024-2025\\H2F-GCN-Rehab\\main.py\", line 364, in <module>\n",
      "    main()\n",
      "  File \"d:\\NCKHSV.2024-2025\\H2F-GCN-Rehab\\main.py\", line 116, in main\n",
      "    df_ex = df[df['Exercise'] == args.exercise].reset_index(drop=True)\n",
      "               ~~^^^^^^^^^^^^\n",
      "  File \"c:\\ProgramData\\anaconda3\\Lib\\site-packages\\pandas\\core\\frame.py\", line 4102, in __getitem__\n",
      "    indexer = self.columns.get_loc(key)\n",
      "              ^^^^^^^^^^^^^^^^^^^^^^^^^\n",
      "  File \"c:\\ProgramData\\anaconda3\\Lib\\site-packages\\pandas\\core\\indexes\\range.py\", line 417, in get_loc\n",
      "    raise KeyError(key)\n",
      "KeyError: 'Exercise'\n"
     ]
    }
   ],
   "source": [
    "!python main.py --model three_stream_shift_gcn_gru --epochs 1500 --exercise 5 > log.txt"
   ]
  }
 ],
 "metadata": {
  "kernelspec": {
   "display_name": "base",
   "language": "python",
   "name": "python3"
  },
  "language_info": {
   "codemirror_mode": {
    "name": "ipython",
    "version": 3
   },
   "file_extension": ".py",
   "mimetype": "text/x-python",
   "name": "python",
   "nbconvert_exporter": "python",
   "pygments_lexer": "ipython3",
   "version": "3.12.4"
  }
 },
 "nbformat": 4,
 "nbformat_minor": 2
}
